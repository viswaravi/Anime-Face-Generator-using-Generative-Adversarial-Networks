{
 "cells": [
  {
   "cell_type": "code",
   "execution_count": 1,
   "metadata": {},
   "outputs": [],
   "source": [
    "# Visualize Preprocessing\n",
    "\n",
    "import cv2 \n",
    "input_img = cv2.imread('F:/Fractal Generation/Anime_Faces_Dataset/1.png')\n",
    "gray_image = cv2.cvtColor(input_img, cv2.COLOR_BGR2GRAY)\n",
    "cv2.imshow('Gray', gray_image)\n",
    "\n",
    "#canny = cv2.Canny(gray_image, 50, 120)\n",
    "img_scaled = cv2.resize(gray_image, (256,256), interpolation = cv2.INTER_AREA)\n",
    "img_normalized = cv2.normalize(img_scaled, None, alpha=0, beta=1, norm_type=cv2.NORM_MINMAX, dtype=cv2.CV_32F)\n",
    "cv2.imshow('Scaled',img_normalized)\n",
    "cv2.waitKey()\n",
    "cv2.destroyAllWindows()"
   ]
  },
  {
   "cell_type": "code",
   "execution_count": 9,
   "metadata": {},
   "outputs": [],
   "source": [
    "input_img.shape"
   ]
  },
  {
   "cell_type": "code",
   "execution_count": 10,
   "metadata": {},
   "outputs": [
    {
     "data": {
      "text/plain": [
       "(64, 64)"
      ]
     },
     "execution_count": 10,
     "metadata": {},
     "output_type": "execute_result"
    }
   ],
   "source": [
    "gray_image.shape"
   ]
  },
  {
   "cell_type": "code",
   "execution_count": 2,
   "metadata": {},
   "outputs": [],
   "source": [
    "# Process and Store Images\n",
    "\n",
    "from PIL import Image\n",
    "import cv2\n",
    "import os, sys\n",
    "\n",
    "input_path = \"F:/Fractal Generation/Anime_Faces_Dataset/\"\n",
    "output_path = \"F:/Fractal Generation/Anime_Faces_Dataset_Processed/\"\n",
    "dirs = os.listdir( input_path )\n",
    "\n",
    "def process():\n",
    "    for item in dirs:\n",
    "        if os.path.isfile(input_path+item):\n",
    "            image = cv2.imread(input_path+item)\n",
    "            gray_image = cv2.cvtColor(image, cv2.COLOR_BGR2GRAY)\n",
    "            #img_scaled = cv2.resize(gray_image, (28,28), interpolation = cv2.INTER_AREA)\n",
    "            #img_normalized = cv2.normalize(img_scaled, None, alpha=0, beta=1, norm_type=cv2.NORM_MINMAX, dtype=cv2.CV_32F)\n",
    "            cv2.imwrite(output_path+item, gray_image)\n",
    "        else:\n",
    "            print('Not a File')\n",
    "            \n",
    "process()"
   ]
  },
  {
   "cell_type": "code",
   "execution_count": 12,
   "metadata": {},
   "outputs": [],
   "source": [
    "input_img = cv2.imread('F:/Fractal Generation/Anime_Faces_Dataset_Processed/1.png')\n",
    "cv2.imshow('Image', input_img)\n",
    "cv2.waitKey()\n",
    "cv2.destroyAllWindows()"
   ]
  },
  {
   "cell_type": "code",
   "execution_count": 3,
   "metadata": {},
   "outputs": [
    {
     "data": {
      "text/plain": [
       "(64, 64, 3)"
      ]
     },
     "execution_count": 3,
     "metadata": {},
     "output_type": "execute_result"
    }
   ],
   "source": [
    "input_img.shape"
   ]
  },
  {
   "cell_type": "code",
   "execution_count": null,
   "metadata": {},
   "outputs": [],
   "source": [
    "import imageio\n",
    "from sklearn.preprocessing import MinMaxScaler\n",
    "import numpy as np\n",
    "scaler = MinMaxScaler()\n",
    "\n",
    "# Load Image Paths\n",
    "path = \"F:/Fractal Generation/Anime_Faces_Dataset_Processed/\"\n",
    "images = os.listdir( path )\n",
    "images = images[:10]\n",
    "images_path = []\n",
    "for image in images:\n",
    "    images_path.append(path+image)\n",
    "\n",
    "def normalize(images):\n",
    "    norm_images = []\n",
    "    for image in images:\n",
    "        n_image = []\n",
    "        for i in image:\n",
    "            n_image.append((i/255)*2 - 1)\n",
    "        n_image = np.asarray(n_image)\n",
    "        norm_images.append(n_image)\n",
    "    return norm_images\n",
    "\n",
    "def rescale(images):\n",
    "    scl_images = []\n",
    "    for image in images:\n",
    "        scl_images.append(image.reshape(28,28,1).astype('float32'))\n",
    "    return scl_images\n",
    "    \n",
    "\n",
    "images = []\n",
    "for img in images_path:\n",
    "    images.append(imageio.imread(img))\n",
    "images = np.asarray(images)\n",
    "images = normalize(images)\n",
    "images = rescale(images)"
   ]
  }
 ],
 "metadata": {
  "kernelspec": {
   "display_name": "Python 3",
   "language": "python",
   "name": "python3"
  },
  "language_info": {
   "codemirror_mode": {
    "name": "ipython",
    "version": 3
   },
   "file_extension": ".py",
   "mimetype": "text/x-python",
   "name": "python",
   "nbconvert_exporter": "python",
   "pygments_lexer": "ipython3",
   "version": "3.6.9"
  }
 },
 "nbformat": 4,
 "nbformat_minor": 4
}
